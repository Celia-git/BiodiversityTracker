{
 "cells": [
  {
   "cell_type": "code",
   "execution_count": null,
   "metadata": {},
   "outputs": [],
   "source": [
    "import matplotlib.pyplot as plt\n",
    "import numpy as np\n",
    "import sqlite3\n",
    "import csv"
   ]
  },
  {
   "cell_type": "code",
   "execution_count": null,
   "metadata": {},
   "outputs": [],
   "source": [
    "class Species():\n",
    "    def __init__(self, scientific_name:str, common_name:str, category:str, conservation_status:str, park_sightings:list[tuple]):\n",
    "        self.scientific_name = scientific_name\n",
    "        self.common_name = common_name\n",
    "        self.category = category\n",
    "        self.conservation_status = conservation_status\n",
    "        self.park_sightings = park_sightings # List of tuples: (str park, int observations)\n",
    "\n",
    "    # Return int amount of sightings at str Park for this Species \n",
    "    def get_sightings(park:str) -> int:\n",
    "        for sighting in self.park_sightings:\n",
    "            if sighting[0] == park:\n",
    "                return sighting[1]\n",
    "        return 0\n",
    "\n",
    "    def __str__(self):\n",
    "        sightings = \"\"\n",
    "        for entry in park_sightings:\n",
    "            sightings += \"%s (%d)\" % (entry[0], entry[1])\n",
    "        return \"%s: %s (%s) -%s | sightings: %s\" % (self.common_name, self.scientific_name, self.category, self.conservation_status, self.sightings)\n"
   ]
  },
  {
   "cell_type": "code",
   "execution_count": null,
   "metadata": {},
   "outputs": [],
   "source": []
  }
 ],
 "metadata": {
  "kernelspec": {
   "display_name": "Python 3 (ipykernel)",
   "language": "python",
   "name": "python3"
  },
  "language_info": {
   "codemirror_mode": {
    "name": "ipython",
    "version": 3
   },
   "file_extension": ".py",
   "mimetype": "text/x-python",
   "name": "python",
   "nbconvert_exporter": "python",
   "pygments_lexer": "ipython3",
   "version": "3.12.0"
  }
 },
 "nbformat": 4,
 "nbformat_minor": 4
}
